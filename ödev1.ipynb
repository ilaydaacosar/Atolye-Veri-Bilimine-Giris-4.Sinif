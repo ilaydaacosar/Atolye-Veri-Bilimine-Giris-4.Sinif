{
 "cells": [
  {
   "cell_type": "code",
   "execution_count": null,
   "id": "be047887f442785",
   "metadata": {
    "ExecuteTime": {
     "end_time": "2025-10-31T20:45:45.551184Z",
     "start_time": "2025-10-31T20:45:45.542271Z"
    }
   },
   "outputs": [
    {
     "name": "stdout",
     "output_type": "stream",
     "text": [
      "Merhaba, benim adım İlayda, 22 yaşındayım ve boyum 1.63 metredir.\n"
     ]
    }
   ],
   "source": [
    "\n",
    "isim = \"İlayda\"     \n",
    "yas = 22            \n",
    "boy = 1.63          \n",
    "\n",
    "print(f\"Merhaba, benim adım {isim}, {yas} yaşındayım ve boyum {boy} metredir.\")\n"
   ]
  }
 ],
 "metadata": {
  "kernelspec": {
   "display_name": "Python 3",
   "language": "python",
   "name": "python3"
  },
  "language_info": {
   "codemirror_mode": {
    "name": "ipython",
    "version": 2
   },
   "file_extension": ".py",
   "mimetype": "text/x-python",
   "name": "python",
   "nbconvert_exporter": "python",
   "pygments_lexer": "ipython2",
   "version": "2.7.6"
  }
 },
 "nbformat": 4,
 "nbformat_minor": 5
}
